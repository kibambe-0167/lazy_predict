{
  "cells": [
    {
      "cell_type": "code",
      "execution_count": null,
      "metadata": {
        "colab": {
          "base_uri": "https://localhost:8080/"
        },
        "id": "upKXbmuhVN7l",
        "outputId": "474a02d3-d0a3-47ce-de45-df1862a38d0e"
      },
      "outputs": [],
      "source": [
        "# from google.colab import drive\n",
        "# drive.mount(\"/content/drive\")"
      ]
    },
    {
      "cell_type": "code",
      "execution_count": null,
      "metadata": {
        "colab": {
          "base_uri": "https://localhost:8080/",
          "height": 206
        },
        "id": "SwWv5G1rYCHG",
        "outputId": "cd3dbba4-a84c-436a-f936-ecd39cfa0113"
      },
      "outputs": [],
      "source": [
        "# load data\n",
        "import pandas as pd\n",
        "df = pd.read_csv(\"./traindata1.1.csv\",engine=\"python\")\n",
        "df.drop(axis=1, inplace=True, columns=['UserID','Date/Time'] )\n",
        "df.drop_duplicates(inplace=True)\n",
        "# feature column and target\n",
        "# ENGoogleTranslate | finalLabel5Classes | SN(Original Shona Tweet)\n",
        "_feature_col = \"SN(Original Shona Tweet)\"\n",
        "_target_col = \"finalLabel5Classes\"\n",
        "df[[_feature_col,_target_col ]].head(5)\n",
        "# df.columns"
      ]
    },
    {
      "cell_type": "code",
      "execution_count": null,
      "metadata": {
        "colab": {
          "base_uri": "https://localhost:8080/",
          "height": 424
        },
        "id": "xexTKUFpYR5f",
        "outputId": "2d2bc381-110f-4da0-8c46-57b76a6f7183"
      },
      "outputs": [],
      "source": [
        "# # text processing function \n",
        "import re\n",
        "import string\n",
        "def clean_text(text):\n",
        "    # to lower case\n",
        "    text = str(text)\n",
        "    text = text.lower()\n",
        "    # remove links\n",
        "    text = re.sub('https:\\/\\/\\S+', '', text) \n",
        "    # remove punctuation\n",
        "    text = re.sub('[%s]' % re.escape(string.punctuation), '', text) \n",
        "    # remove next line     \n",
        "    text = re.sub(r'[^ \\w\\.]', '', text) \n",
        "    # remove words containing numbers\n",
        "    text = re.sub('\\w*\\d\\w*', '', text)\n",
        "\n",
        "    text = ' '.join( text.split() )\n",
        "    \n",
        "    return text# Create a new column called \"Text\" for collecting clean text\n",
        "df['Text'] = df[_feature_col].apply(lambda x: clean_text(x))\n",
        "df[['Text',_target_col]]"
      ]
    },
    {
      "cell_type": "code",
      "execution_count": null,
      "metadata": {
        "colab": {
          "base_uri": "https://localhost:8080/"
        },
        "id": "JxC_Ry_bamBp",
        "outputId": "e8663905-ae6f-4804-833a-b239b679e26f"
      },
      "outputs": [],
      "source": [
        "# make label from target text data.\n",
        "from sklearn.preprocessing import LabelEncoder\n",
        "\n",
        "leObj = LabelEncoder()\n",
        "leObj.fit(df[_target_col])\n",
        "target_num = leObj.transform(df[_target_col])\n",
        "target_num"
      ]
    },
    {
      "cell_type": "code",
      "execution_count": null,
      "metadata": {
        "id": "ztaKxQ-sdMRK"
      },
      "outputs": [],
      "source": [
        "# seperate the data\n",
        "from sklearn.model_selection import train_test_split\n",
        "\n",
        "x_train, x_test, y_train, y_test = train_test_split(df['Text'], target_num, random_state=234, test_size=.2 )"
      ]
    },
    {
      "cell_type": "code",
      "execution_count": null,
      "metadata": {
        "colab": {
          "base_uri": "https://localhost:8080/"
        },
        "id": "AazN5ED2fAqs",
        "outputId": "7f796d5e-1ce1-4b22-dd47-517556ab63a1"
      },
      "outputs": [],
      "source": [
        "# install lazy predict model.\n",
        "!pip install lazypredict"
      ]
    },
    {
      "cell_type": "code",
      "execution_count": null,
      "metadata": {
        "id": "06YX8acqdpgv"
      },
      "outputs": [],
      "source": [
        "# build text transformers using counvectorizers and tfidfTransformer.\n",
        "from sklearn.pipeline import Pipeline\n",
        "from sklearn.feature_extraction.text import CountVectorizer, TfidfTransformer\n",
        "# \n",
        "# pipe = Pipeline(steps=[\n",
        "#     ('vect', CountVectorizer() ),\n",
        "#     ('tfidf', TfidfTransformer() ),\n",
        "# ])\n",
        "# \n",
        "vect = CountVectorizer()\n",
        "tfidf = TfidfTransformer()\n",
        "# x_train.values.tolist()\n",
        "# transform X_train data\n",
        "td = vect.fit_transform(x_train.values.tolist())\n",
        "X_train = tfidf.fit_transform(td)\n",
        "\n",
        "# transform X_test data\n",
        "td1 = vect.fit_transform(x_test.values.tolist())\n",
        "X_test = tfidf.fit_transform(td1)"
      ]
    },
    {
      "cell_type": "code",
      "execution_count": 37,
      "metadata": {},
      "outputs": [],
      "source": [
        "from sklearn.ensemble import GradientBoostingClassifier"
      ]
    },
    {
      "cell_type": "code",
      "execution_count": 46,
      "metadata": {
        "id": "XHoTamPif1CW"
      },
      "outputs": [
        {
          "name": "stdout",
          "output_type": "stream",
          "text": [
            "(<class 'ModuleNotFoundError'>, ModuleNotFoundError(\"No module named 'catboost'\"), <traceback object at 0x13eac5580>)\n",
            "(<class 'ModuleNotFoundError'>, ModuleNotFoundError(\"No module named 'lightgbm'\"), <traceback object at 0x1753c1b00>)\n"
          ]
        },
        {
          "ename": "NameError",
          "evalue": "name 'lightgbm' is not defined",
          "output_type": "error",
          "traceback": [
            "\u001b[0;31m---------------------------------------------------------------------------\u001b[0m",
            "\u001b[0;31mNameError\u001b[0m                                 Traceback (most recent call last)",
            "Cell \u001b[0;32mIn[46], line 1\u001b[0m\n\u001b[0;32m----> 1\u001b[0m \u001b[39mfrom\u001b[39;00m \u001b[39mlazypredict\u001b[39;00m\u001b[39m.\u001b[39;00m\u001b[39mSupervised\u001b[39;00m \u001b[39mimport\u001b[39;00m LazyClassifier\n\u001b[1;32m      3\u001b[0m \u001b[39m# initialise lazy classifier object\u001b[39;00m\n\u001b[1;32m      4\u001b[0m clf \u001b[39m=\u001b[39m LazyClassifier(verbose\u001b[39m=\u001b[39m\u001b[39m0\u001b[39m,ignore_warnings\u001b[39m=\u001b[39m\u001b[39mTrue\u001b[39;00m, custom_metric\u001b[39m=\u001b[39m\u001b[39mNone\u001b[39;00m)\n",
            "File \u001b[0;32m~/codes/ghp/lazy_predict/lp-env/lib/python3.10/site-packages/lazypredict/Supervised.py:85\u001b[0m\n\u001b[1;32m     82\u001b[0m     CLASSIFIERS\u001b[39m.\u001b[39mpop(CLASSIFIERS\u001b[39m.\u001b[39mindex(i))\n\u001b[1;32m     84\u001b[0m REGRESSORS\u001b[39m.\u001b[39mappend((\u001b[39m'\u001b[39m\u001b[39mXGBRegressor\u001b[39m\u001b[39m'\u001b[39m, xgboost\u001b[39m.\u001b[39mXGBRegressor))\n\u001b[0;32m---> 85\u001b[0m REGRESSORS\u001b[39m.\u001b[39mappend((\u001b[39m'\u001b[39m\u001b[39mLGBMRegressor\u001b[39m\u001b[39m'\u001b[39m,lightgbm\u001b[39m.\u001b[39mLGBMRegressor))\n\u001b[1;32m     86\u001b[0m REGRESSORS\u001b[39m.\u001b[39mappend((\u001b[39m'\u001b[39m\u001b[39mCatBoostRegressor\u001b[39m\u001b[39m'\u001b[39m,catboost\u001b[39m.\u001b[39mCatBoostRegressor))\n\u001b[1;32m     88\u001b[0m CLASSIFIERS\u001b[39m.\u001b[39mappend((\u001b[39m'\u001b[39m\u001b[39mXGBClassifier\u001b[39m\u001b[39m'\u001b[39m,xgboost\u001b[39m.\u001b[39mXGBClassifier))\n",
            "\u001b[0;31mNameError\u001b[0m: name 'lightgbm' is not defined"
          ]
        }
      ],
      "source": [
        "from lazypredict.Supervised import LazyClassifier\n",
        "\n",
        "# initialise lazy classifier object\n",
        "clf = LazyClassifier(verbose=0,ignore_warnings=True, custom_metric=None)"
      ]
    },
    {
      "cell_type": "code",
      "execution_count": null,
      "metadata": {
        "colab": {
          "base_uri": "https://localhost:8080/"
        },
        "id": "FxgNN_N3jvBu",
        "outputId": "17dd9c67-24f1-4014-800e-63382077ff86"
      },
      "outputs": [],
      "source": [
        "# fit data, on all classification models,\n",
        "import numpy as np\n",
        "\n",
        "# scipy.sparse.csr.csr_matrix\n",
        "# X_train.toarray()\n",
        "models, predictions = clf.fit( X_train.toarray(), X_test.toarray(), y_train, y_test )"
      ]
    },
    {
      "cell_type": "code",
      "execution_count": null,
      "metadata": {
        "id": "dzfiWs7Hrzvi"
      },
      "outputs": [],
      "source": [
        "# Calculate performance of all models on test dataset\n",
        "models"
      ]
    },
    {
      "cell_type": "code",
      "execution_count": null,
      "metadata": {},
      "outputs": [],
      "source": [
        "model_dictionary = clf.provide_models(X_train,X_test,y_train,y_test)"
      ]
    }
  ],
  "metadata": {
    "colab": {
      "provenance": []
    },
    "kernelspec": {
      "display_name": "lp-env",
      "language": "python",
      "name": "python3"
    },
    "language_info": {
      "codemirror_mode": {
        "name": "ipython",
        "version": 3
      },
      "file_extension": ".py",
      "mimetype": "text/x-python",
      "name": "python",
      "nbconvert_exporter": "python",
      "pygments_lexer": "ipython3",
      "version": "3.10.7"
    },
    "vscode": {
      "interpreter": {
        "hash": "13ae722b5b95ad0efb1c8e3b20df5154b3228bccf0ef9e17d98553756e10c108"
      }
    }
  },
  "nbformat": 4,
  "nbformat_minor": 0
}
