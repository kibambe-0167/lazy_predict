{
  "cells": [
    {
      "cell_type": "code",
      "execution_count": 1,
      "metadata": {
        "colab": {
          "base_uri": "https://localhost:8080/"
        },
        "id": "upKXbmuhVN7l",
        "outputId": "474a02d3-d0a3-47ce-de45-df1862a38d0e"
      },
      "outputs": [],
      "source": [
        "# from google.colab import drive\n",
        "# drive.mount(\"/content/drive\")"
      ]
    },
    {
      "cell_type": "code",
      "execution_count": 2,
      "metadata": {
        "colab": {
          "base_uri": "https://localhost:8080/",
          "height": 206
        },
        "id": "SwWv5G1rYCHG",
        "outputId": "cd3dbba4-a84c-436a-f936-ecd39cfa0113"
      },
      "outputs": [
        {
          "data": {
            "text/html": [
              "<div>\n",
              "<style scoped>\n",
              "    .dataframe tbody tr th:only-of-type {\n",
              "        vertical-align: middle;\n",
              "    }\n",
              "\n",
              "    .dataframe tbody tr th {\n",
              "        vertical-align: top;\n",
              "    }\n",
              "\n",
              "    .dataframe thead th {\n",
              "        text-align: right;\n",
              "    }\n",
              "</style>\n",
              "<table border=\"1\" class=\"dataframe\">\n",
              "  <thead>\n",
              "    <tr style=\"text-align: right;\">\n",
              "      <th></th>\n",
              "      <th>SN(Original Shona Tweet)</th>\n",
              "      <th>finalLabel5Classes</th>\n",
              "    </tr>\n",
              "  </thead>\n",
              "  <tbody>\n",
              "    <tr>\n",
              "      <th>0</th>\n",
              "      <td>@GombaGuru @__vigie 😂😂 ah mudhara inzwaiwo tsi...</td>\n",
              "      <td>VNEG</td>\n",
              "    </tr>\n",
              "    <tr>\n",
              "      <th>1</th>\n",
              "      <td>@ChinyandeGeorge @ngadziore @nancynjenge @tapc...</td>\n",
              "      <td>NEU</td>\n",
              "    </tr>\n",
              "    <tr>\n",
              "      <th>2</th>\n",
              "      <td>Munenge muchiseka vanhu vari single imi muchii...</td>\n",
              "      <td>NEG</td>\n",
              "    </tr>\n",
              "    <tr>\n",
              "      <th>3</th>\n",
              "      <td>@Sharonrose918 @habeeb_zw uyu oita sei</td>\n",
              "      <td>NEU</td>\n",
              "    </tr>\n",
              "    <tr>\n",
              "      <th>4</th>\n",
              "      <td>@baba_nyenyedzi Am honest and practical questi...</td>\n",
              "      <td>VPOS</td>\n",
              "    </tr>\n",
              "  </tbody>\n",
              "</table>\n",
              "</div>"
            ],
            "text/plain": [
              "                            SN(Original Shona Tweet) finalLabel5Classes\n",
              "0  @GombaGuru @__vigie 😂😂 ah mudhara inzwaiwo tsi...               VNEG\n",
              "1  @ChinyandeGeorge @ngadziore @nancynjenge @tapc...                NEU\n",
              "2  Munenge muchiseka vanhu vari single imi muchii...                NEG\n",
              "3             @Sharonrose918 @habeeb_zw uyu oita sei                NEU\n",
              "4  @baba_nyenyedzi Am honest and practical questi...               VPOS"
            ]
          },
          "execution_count": 2,
          "metadata": {},
          "output_type": "execute_result"
        }
      ],
      "source": [
        "# load data\n",
        "import pandas as pd\n",
        "df = pd.read_csv(\"./traindata1.1.csv\",engine=\"python\")\n",
        "df.drop(axis=1, inplace=True, columns=['UserID','Date/Time'] )\n",
        "df.drop_duplicates(inplace=True)\n",
        "# feature column and target\n",
        "# ENGoogleTranslate | finalLabel5Classes | SN(Original Shona Tweet)\n",
        "_feature_col = \"SN(Original Shona Tweet)\"\n",
        "_target_col = \"finalLabel5Classes\"\n",
        "df[[_feature_col,_target_col ]].head(5)\n",
        "# df.columns"
      ]
    },
    {
      "cell_type": "code",
      "execution_count": 3,
      "metadata": {
        "colab": {
          "base_uri": "https://localhost:8080/",
          "height": 424
        },
        "id": "xexTKUFpYR5f",
        "outputId": "2d2bc381-110f-4da0-8c46-57b76a6f7183"
      },
      "outputs": [
        {
          "data": {
            "text/html": [
              "<div>\n",
              "<style scoped>\n",
              "    .dataframe tbody tr th:only-of-type {\n",
              "        vertical-align: middle;\n",
              "    }\n",
              "\n",
              "    .dataframe tbody tr th {\n",
              "        vertical-align: top;\n",
              "    }\n",
              "\n",
              "    .dataframe thead th {\n",
              "        text-align: right;\n",
              "    }\n",
              "</style>\n",
              "<table border=\"1\" class=\"dataframe\">\n",
              "  <thead>\n",
              "    <tr style=\"text-align: right;\">\n",
              "      <th></th>\n",
              "      <th>Text</th>\n",
              "      <th>finalLabel5Classes</th>\n",
              "    </tr>\n",
              "  </thead>\n",
              "  <tbody>\n",
              "    <tr>\n",
              "      <th>0</th>\n",
              "      <td>gombaguru vigie ah mudhara inzwaiwo tsitsi van...</td>\n",
              "      <td>VNEG</td>\n",
              "    </tr>\n",
              "    <tr>\n",
              "      <th>1</th>\n",
              "      <td>chinyandegeorge ngadziore nancynjenge boriscde...</td>\n",
              "      <td>NEU</td>\n",
              "    </tr>\n",
              "    <tr>\n",
              "      <th>2</th>\n",
              "      <td>munenge muchiseka vanhu vari single imi muchii...</td>\n",
              "      <td>NEG</td>\n",
              "    </tr>\n",
              "    <tr>\n",
              "      <th>3</th>\n",
              "      <td>habeebzw uyu oita sei</td>\n",
              "      <td>NEU</td>\n",
              "    </tr>\n",
              "    <tr>\n",
              "      <th>4</th>\n",
              "      <td>babanyenyedzi am honest and practical question...</td>\n",
              "      <td>VPOS</td>\n",
              "    </tr>\n",
              "    <tr>\n",
              "      <th>...</th>\n",
              "      <td>...</td>\n",
              "      <td>...</td>\n",
              "    </tr>\n",
              "    <tr>\n",
              "      <th>12761</th>\n",
              "      <td>talentmadungwe adam na eve ndivo vakatanga nek...</td>\n",
              "      <td>POS</td>\n",
              "    </tr>\n",
              "    <tr>\n",
              "      <th>12762</th>\n",
              "      <td>generalafrik bbmhlanga exactly kunge ivo wakat...</td>\n",
              "      <td>NEG</td>\n",
              "    </tr>\n",
              "    <tr>\n",
              "      <th>12763</th>\n",
              "      <td>ndimlounathi imagine murume anovenga shadaya n...</td>\n",
              "      <td>NEG</td>\n",
              "    </tr>\n",
              "    <tr>\n",
              "      <th>12764</th>\n",
              "      <td>ushuni nzondora ndowanzodzida dziri dzega dzis...</td>\n",
              "      <td>NEU</td>\n",
              "    </tr>\n",
              "    <tr>\n",
              "      <th>12766</th>\n",
              "      <td>nyatsime yemahara mubati we mugove wemuharare ...</td>\n",
              "      <td>NEG</td>\n",
              "    </tr>\n",
              "  </tbody>\n",
              "</table>\n",
              "<p>11862 rows × 2 columns</p>\n",
              "</div>"
            ],
            "text/plain": [
              "                                                    Text finalLabel5Classes\n",
              "0      gombaguru vigie ah mudhara inzwaiwo tsitsi van...               VNEG\n",
              "1      chinyandegeorge ngadziore nancynjenge boriscde...                NEU\n",
              "2      munenge muchiseka vanhu vari single imi muchii...                NEG\n",
              "3                                  habeebzw uyu oita sei                NEU\n",
              "4      babanyenyedzi am honest and practical question...               VPOS\n",
              "...                                                  ...                ...\n",
              "12761  talentmadungwe adam na eve ndivo vakatanga nek...                POS\n",
              "12762  generalafrik bbmhlanga exactly kunge ivo wakat...                NEG\n",
              "12763  ndimlounathi imagine murume anovenga shadaya n...                NEG\n",
              "12764  ushuni nzondora ndowanzodzida dziri dzega dzis...                NEU\n",
              "12766  nyatsime yemahara mubati we mugove wemuharare ...                NEG\n",
              "\n",
              "[11862 rows x 2 columns]"
            ]
          },
          "execution_count": 3,
          "metadata": {},
          "output_type": "execute_result"
        }
      ],
      "source": [
        "# # text processing function \n",
        "import re\n",
        "import string\n",
        "def clean_text(text):\n",
        "    # to lower case\n",
        "    text = str(text)\n",
        "    text = text.lower()\n",
        "    # remove links\n",
        "    text = re.sub('https:\\/\\/\\S+', '', text) \n",
        "    # remove punctuation\n",
        "    text = re.sub('[%s]' % re.escape(string.punctuation), '', text) \n",
        "    # remove next line     \n",
        "    text = re.sub(r'[^ \\w\\.]', '', text) \n",
        "    # remove words containing numbers\n",
        "    text = re.sub('\\w*\\d\\w*', '', text)\n",
        "\n",
        "    text = ' '.join( text.split() )\n",
        "    \n",
        "    return text# Create a new column called \"Text\" for collecting clean text\n",
        "df['Text'] = df[_feature_col].apply(lambda x: clean_text(x))\n",
        "df[['Text',_target_col]]"
      ]
    },
    {
      "cell_type": "code",
      "execution_count": 4,
      "metadata": {
        "colab": {
          "base_uri": "https://localhost:8080/"
        },
        "id": "JxC_Ry_bamBp",
        "outputId": "e8663905-ae6f-4804-833a-b239b679e26f"
      },
      "outputs": [
        {
          "data": {
            "text/plain": [
              "array([3, 1, 0, ..., 0, 1, 0])"
            ]
          },
          "execution_count": 4,
          "metadata": {},
          "output_type": "execute_result"
        }
      ],
      "source": [
        "# make label from target text data.\n",
        "from sklearn.preprocessing import LabelEncoder\n",
        "\n",
        "leObj = LabelEncoder()\n",
        "leObj.fit(df[_target_col])\n",
        "target_num = leObj.transform(df[_target_col])\n",
        "target_num"
      ]
    },
    {
      "cell_type": "code",
      "execution_count": 5,
      "metadata": {
        "id": "ztaKxQ-sdMRK"
      },
      "outputs": [],
      "source": [
        "# seperate the data\n",
        "from sklearn.model_selection import train_test_split\n",
        "\n",
        "x_train, x_test, y_train, y_test = train_test_split(df['Text'], target_num, random_state=234, test_size=.2 )"
      ]
    },
    {
      "cell_type": "code",
      "execution_count": null,
      "metadata": {
        "colab": {
          "base_uri": "https://localhost:8080/"
        },
        "id": "AazN5ED2fAqs",
        "outputId": "7f796d5e-1ce1-4b22-dd47-517556ab63a1"
      },
      "outputs": [],
      "source": [
        "# install lazy predict model.\n",
        "!pip install lazypredict"
      ]
    },
    {
      "cell_type": "code",
      "execution_count": 9,
      "metadata": {
        "id": "06YX8acqdpgv"
      },
      "outputs": [],
      "source": [
        "# build text transformers using counvectorizers and tfidfTransformer.\n",
        "from sklearn.pipeline import Pipeline\n",
        "from sklearn.feature_extraction.text import CountVectorizer, TfidfTransformer\n",
        "# \n",
        "# pipe = Pipeline(steps=[\n",
        "#     ('vect', CountVectorizer() ),\n",
        "#     ('tfidf', TfidfTransformer() ),\n",
        "# ])\n",
        "# \n",
        "vect = CountVectorizer()\n",
        "tfidf = TfidfTransformer()\n",
        "# x_train.values.tolist()\n",
        "# transform X_train data\n",
        "td = vect.fit_transform(x_train.values.tolist())\n",
        "X_train = tfidf.fit_transform(td)\n",
        "\n",
        "# transform X_test data\n",
        "td1 = vect.fit_transform(x_test.values.tolist())\n",
        "X_test = tfidf.fit_transform(td1)"
      ]
    },
    {
      "cell_type": "code",
      "execution_count": 18,
      "metadata": {
        "id": "XHoTamPif1CW"
      },
      "outputs": [
        {
          "ename": "ModuleNotFoundError",
          "evalue": "No module named 'sklearn.utils.testing'",
          "output_type": "error",
          "traceback": [
            "\u001b[0;31m---------------------------------------------------------------------------\u001b[0m",
            "\u001b[0;31mModuleNotFoundError\u001b[0m                       Traceback (most recent call last)",
            "Cell \u001b[0;32mIn[18], line 1\u001b[0m\n\u001b[0;32m----> 1\u001b[0m \u001b[39mfrom\u001b[39;00m \u001b[39mlazypredict\u001b[39;00m\u001b[39m.\u001b[39;00m\u001b[39mSupervised\u001b[39;00m \u001b[39mimport\u001b[39;00m LazyClassifier\n\u001b[1;32m      3\u001b[0m \u001b[39m# initialise lazy classifier object\u001b[39;00m\n\u001b[1;32m      4\u001b[0m clf \u001b[39m=\u001b[39m LazyClassifier(verbose\u001b[39m=\u001b[39m\u001b[39m0\u001b[39m,ignore_warnings\u001b[39m=\u001b[39m\u001b[39mTrue\u001b[39;00m, custom_metric\u001b[39m=\u001b[39m\u001b[39mNone\u001b[39;00m)\n",
            "File \u001b[0;32m~/codes/ghp/lazy_predict/lp-env/lib/python3.10/site-packages/lazypredict/Supervised.py:16\u001b[0m\n\u001b[1;32m     14\u001b[0m \u001b[39mfrom\u001b[39;00m \u001b[39msklearn\u001b[39;00m\u001b[39m.\u001b[39;00m\u001b[39mpreprocessing\u001b[39;00m \u001b[39mimport\u001b[39;00m StandardScaler, OneHotEncoder\n\u001b[1;32m     15\u001b[0m \u001b[39mfrom\u001b[39;00m \u001b[39msklearn\u001b[39;00m\u001b[39m.\u001b[39;00m\u001b[39mcompose\u001b[39;00m \u001b[39mimport\u001b[39;00m ColumnTransformer\n\u001b[0;32m---> 16\u001b[0m \u001b[39mfrom\u001b[39;00m \u001b[39msklearn\u001b[39;00m\u001b[39m.\u001b[39;00m\u001b[39mutils\u001b[39;00m\u001b[39m.\u001b[39;00m\u001b[39mtesting\u001b[39;00m \u001b[39mimport\u001b[39;00m all_estimators\n\u001b[1;32m     17\u001b[0m \u001b[39mfrom\u001b[39;00m \u001b[39msklearn\u001b[39;00m\u001b[39m.\u001b[39;00m\u001b[39mbase\u001b[39;00m \u001b[39mimport\u001b[39;00m RegressorMixin\n\u001b[1;32m     18\u001b[0m \u001b[39mfrom\u001b[39;00m \u001b[39msklearn\u001b[39;00m\u001b[39m.\u001b[39;00m\u001b[39mbase\u001b[39;00m \u001b[39mimport\u001b[39;00m ClassifierMixin\n",
            "\u001b[0;31mModuleNotFoundError\u001b[0m: No module named 'sklearn.utils.testing'"
          ]
        }
      ],
      "source": [
        "from lazypredict.Supervised import LazyClassifier\n",
        "\n",
        "# initialise lazy classifier object\n",
        "clf = LazyClassifier(verbose=0,ignore_warnings=True, custom_metric=None)"
      ]
    },
    {
      "cell_type": "code",
      "execution_count": 17,
      "metadata": {
        "colab": {
          "base_uri": "https://localhost:8080/"
        },
        "id": "FxgNN_N3jvBu",
        "outputId": "17dd9c67-24f1-4014-800e-63382077ff86"
      },
      "outputs": [
        {
          "ename": "NameError",
          "evalue": "name 'clf' is not defined",
          "output_type": "error",
          "traceback": [
            "\u001b[0;31m---------------------------------------------------------------------------\u001b[0m",
            "\u001b[0;31mNameError\u001b[0m                                 Traceback (most recent call last)",
            "Cell \u001b[0;32mIn[17], line 6\u001b[0m\n\u001b[1;32m      2\u001b[0m \u001b[39mimport\u001b[39;00m \u001b[39mnumpy\u001b[39;00m \u001b[39mas\u001b[39;00m \u001b[39mnp\u001b[39;00m\n\u001b[1;32m      4\u001b[0m \u001b[39m# scipy.sparse.csr.csr_matrix\u001b[39;00m\n\u001b[1;32m      5\u001b[0m \u001b[39m# X_train.toarray()\u001b[39;00m\n\u001b[0;32m----> 6\u001b[0m models, predictions \u001b[39m=\u001b[39m clf\u001b[39m.\u001b[39mfit( X_train\u001b[39m.\u001b[39mtoarray(), X_test\u001b[39m.\u001b[39mtoarray(), y_train, y_test )\n",
            "\u001b[0;31mNameError\u001b[0m: name 'clf' is not defined"
          ]
        }
      ],
      "source": [
        "# fit data, on all classification models,\n",
        "import numpy as np\n",
        "\n",
        "# scipy.sparse.csr.csr_matrix\n",
        "# X_train.toarray()\n",
        "models, predictions = clf.fit( X_train.toarray(), X_test.toarray(), y_train, y_test )"
      ]
    },
    {
      "cell_type": "code",
      "execution_count": null,
      "metadata": {
        "id": "dzfiWs7Hrzvi"
      },
      "outputs": [],
      "source": [
        "# Calculate performance of all models on test dataset\n",
        "models"
      ]
    },
    {
      "cell_type": "code",
      "execution_count": null,
      "metadata": {},
      "outputs": [],
      "source": [
        "model_dictionary = clf.provide_models(X_train,X_test,y_train,y_test)"
      ]
    }
  ],
  "metadata": {
    "colab": {
      "provenance": []
    },
    "kernelspec": {
      "display_name": "lp-env",
      "language": "python",
      "name": "python3"
    },
    "language_info": {
      "codemirror_mode": {
        "name": "ipython",
        "version": 3
      },
      "file_extension": ".py",
      "mimetype": "text/x-python",
      "name": "python",
      "nbconvert_exporter": "python",
      "pygments_lexer": "ipython3",
      "version": "3.10.7"
    },
    "vscode": {
      "interpreter": {
        "hash": "13ae722b5b95ad0efb1c8e3b20df5154b3228bccf0ef9e17d98553756e10c108"
      }
    }
  },
  "nbformat": 4,
  "nbformat_minor": 0
}
